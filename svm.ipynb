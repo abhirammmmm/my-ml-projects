{
 "cells": [
  {
   "cell_type": "markdown",
   "id": "cedda291",
   "metadata": {},
   "source": [
    "# Hello welcome to my repository\n",
    "## This file contains my implementation of support vector machines on Spam - Ham dataset downloaded from kaggle"
   ]
  },
  {
   "cell_type": "markdown",
   "id": "1ca6b960",
   "metadata": {},
   "source": [
    "### The SPAM HAM classification is also one the most widely used example in the field of machine learning.\n",
    "### This contains the data of spam mails and ham mails our ML model must be trained on the data to correctly classify new data into spam and ham. for this approach I choose SVMs because of its inter-operability over multi dimensional data."
   ]
  },
  {
   "cell_type": "markdown",
   "id": "01aee177",
   "metadata": {},
   "source": [
    "***The spam.csv dataset contains two columns and 5572 rows. The first column has the label of the data either it is SPAM or HAM and the second column contains the text how a spam or ham mail would look like.***"
   ]
  },
  {
   "cell_type": "markdown",
   "id": "27054107",
   "metadata": {},
   "source": [
    "***The spam.csv file conatins: 4825 ham messages and 747 spam messages. It is shown by the following code to find word count of 'ham' and 'spam':***"
   ]
  },
  {
   "cell_type": "code",
   "execution_count": 6,
   "id": "9e08ef28",
   "metadata": {},
   "outputs": [
    {
     "name": "stdout",
     "output_type": "stream",
     "text": [
      "Ham count: 4825\n",
      "Spam count: 747\n"
     ]
    }
   ],
   "source": [
    "import csv\n",
    "\n",
    "with open('spam.csv', 'r', encoding='utf-8') as csvfile:\n",
    "    spamreader = csv.reader(csvfile, delimiter=',')\n",
    "    ham_count = 0\n",
    "    spam_count = 0\n",
    "    for row in spamreader:\n",
    "        if row[0] == 'ham':\n",
    "            ham_count += 1\n",
    "        elif row[0] == 'spam':\n",
    "            spam_count += 1\n",
    "    print('Ham count:', ham_count)\n",
    "    print('Spam count:', spam_count)\n"
   ]
  },
  {
   "cell_type": "markdown",
   "id": "bd827ccc",
   "metadata": {},
   "source": [
    "***The spam.csv dataset has label in 1st column and data in 2nd column let us return the head of the data . i.e; 5 records using the following code:***"
   ]
  },
  {
   "cell_type": "code",
   "execution_count": 4,
   "id": "afc97f0e",
   "metadata": {},
   "outputs": [
    {
     "name": "stdout",
     "output_type": "stream",
     "text": [
      "['v1', 'v2', '', '', '']\n",
      "['ham', 'Go until jurong point, crazy.. Available only in bugis n great world la e buffet... Cine there got amore wat...', '', '', '']\n",
      "['ham', 'Ok lar... Joking wif u oni...', '', '', '']\n",
      "['spam', \"Free entry in 2 a wkly comp to win FA Cup final tkts 21st May 2005. Text FA to 87121 to receive entry question(std txt rate)T&C's apply 08452810075over18's\", '', '', '']\n",
      "['ham', 'U dun say so early hor... U c already then say...', '', '', '']\n"
     ]
    }
   ],
   "source": [
    "import csv\n",
    "\n",
    "with open('spam.csv') as csvfile:\n",
    "    reader = csv.reader(csvfile)\n",
    "    for i, row in enumerate(reader):\n",
    "        if i < 5:  \n",
    "            print(row)\n",
    "        else:\n",
    "            break"
   ]
  },
  {
   "cell_type": "markdown",
   "id": "a4ea306f",
   "metadata": {},
   "source": [
    "### The implementation of support vector machine for classification on our spam.csv dataset is as follows:"
   ]
  },
  {
   "cell_type": "code",
   "execution_count": 2,
   "id": "a7ab0e24",
   "metadata": {},
   "outputs": [
    {
     "name": "stdout",
     "output_type": "stream",
     "text": [
      "Accuracy: 0.9847533632286996\n"
     ]
    }
   ],
   "source": [
    "import pandas as pd\n",
    "from sklearn.model_selection import train_test_split\n",
    "from sklearn.feature_extraction.text import CountVectorizer\n",
    "from sklearn import svm \n",
    "spam = pd.read_csv('spam.csv')\n",
    "z = spam['v2']\n",
    "y = spam[\"v1\"]\n",
    "z_train, z_test,y_train, y_test = train_test_split(z,y,test_size = 0.2)\n",
    "cv = CountVectorizer()\n",
    "features = cv.fit_transform(z_train)\n",
    "model = svm.SVC()\n",
    "model.fit(features,y_train)\n",
    "features_test = cv.transform(z_test)\n",
    "print(\"Accuracy: {}\".format(model.score(features_test,y_test)))"
   ]
  },
  {
   "cell_type": "markdown",
   "id": "e27205fd",
   "metadata": {},
   "source": [
    "#### The explanation for the above code is as follows:"
   ]
  },
  {
   "cell_type": "markdown",
   "id": "d62b266e",
   "metadata": {},
   "source": [
    "***Firstly import the required packages and libraries. We need Train_test_split function as our dataset doesnot contain a default splitter like MNIST. it can be found in sklearn.model_selection.\n",
    "Now import our support vector machine from sklearn. and lets us do some feature engineering we have only text data so we need to extract text data from our dataset so use: sklearn.feature_extraction.text import countvectorizer.***\n",
    "\n",
    "***Now, read the csv from spam.csv into spam variable. Then assign our column names v1 and v2 to y and z variables.\n",
    "Now we have to split the dataset into training set and test set for that we use train_test_split() function and i gave 0.2 for test size. i.e; 1114 test data and 4468 trainng data.***\n",
    "\n",
    "***Now using countvectorizer we transform ztrain and z test and give the ztrain to the svm's SVC i.e; support vector classification.***\n",
    "\n",
    "***Then, we test our model using the test data and findout the accuracy of the model usinf model.score(features_test, ytest).***\n",
    "\n",
    "***We have acheived an accuracy of 98.47%.***"
   ]
  }
 ],
 "metadata": {
  "kernelspec": {
   "display_name": "Python 3 (ipykernel)",
   "language": "python",
   "name": "python3"
  },
  "language_info": {
   "codemirror_mode": {
    "name": "ipython",
    "version": 3
   },
   "file_extension": ".py",
   "mimetype": "text/x-python",
   "name": "python",
   "nbconvert_exporter": "python",
   "pygments_lexer": "ipython3",
   "version": "3.9.12"
  }
 },
 "nbformat": 4,
 "nbformat_minor": 5
}
